{
 "cells": [
  {
   "cell_type": "code",
   "execution_count": 1,
   "id": "805c04fc",
   "metadata": {},
   "outputs": [],
   "source": [
    "import pandas as pd\n",
    "import matplotlib.pyplot as plt"
   ]
  },
  {
   "cell_type": "code",
   "execution_count": 2,
   "id": "b36046f0",
   "metadata": {},
   "outputs": [
    {
     "data": {
      "text/html": [
       "<div>\n",
       "<style scoped>\n",
       "    .dataframe tbody tr th:only-of-type {\n",
       "        vertical-align: middle;\n",
       "    }\n",
       "\n",
       "    .dataframe tbody tr th {\n",
       "        vertical-align: top;\n",
       "    }\n",
       "\n",
       "    .dataframe thead th {\n",
       "        text-align: right;\n",
       "    }\n",
       "</style>\n",
       "<table border=\"1\" class=\"dataframe\">\n",
       "  <thead>\n",
       "    <tr style=\"text-align: right;\">\n",
       "      <th></th>\n",
       "      <th>Residence_Addresses_City</th>\n",
       "      <th>elec_date</th>\n",
       "      <th>elec_year</th>\n",
       "      <th>elec_type</th>\n",
       "      <th>total_voters_asian</th>\n",
       "      <th>total_voters_black</th>\n",
       "      <th>total_voters_hispanic</th>\n",
       "      <th>total_voters_others</th>\n",
       "      <th>total_voters_white</th>\n",
       "      <th>voted_voters_asian</th>\n",
       "      <th>...</th>\n",
       "      <th>CommercialData_EstimatedHHIncomeAmount</th>\n",
       "      <th>total_voters_college</th>\n",
       "      <th>total_voters_no_college</th>\n",
       "      <th>voted_voters_college</th>\n",
       "      <th>voted_voters_no_college</th>\n",
       "      <th>perc_turnout_college</th>\n",
       "      <th>perc_turnout_no_college</th>\n",
       "      <th>mean_age</th>\n",
       "      <th>voter_population</th>\n",
       "      <th>voted_voters</th>\n",
       "    </tr>\n",
       "  </thead>\n",
       "  <tbody>\n",
       "    <tr>\n",
       "      <th>0</th>\n",
       "      <td>Oakland</td>\n",
       "      <td>2020_11_03</td>\n",
       "      <td>2020</td>\n",
       "      <td>General</td>\n",
       "      <td>30600.0</td>\n",
       "      <td>61476.0</td>\n",
       "      <td>37174.0</td>\n",
       "      <td>8628.0</td>\n",
       "      <td>83122.0</td>\n",
       "      <td>23041.0</td>\n",
       "      <td>...</td>\n",
       "      <td>115534.731762</td>\n",
       "      <td>80668.0</td>\n",
       "      <td>27989.0</td>\n",
       "      <td>71356.0</td>\n",
       "      <td>22543.0</td>\n",
       "      <td>0.884564</td>\n",
       "      <td>0.805424</td>\n",
       "      <td>47.829424</td>\n",
       "      <td>331652</td>\n",
       "      <td>172221.0</td>\n",
       "    </tr>\n",
       "    <tr>\n",
       "      <th>1</th>\n",
       "      <td>Oakland</td>\n",
       "      <td>2018_11_06</td>\n",
       "      <td>2018</td>\n",
       "      <td>General</td>\n",
       "      <td>30600.0</td>\n",
       "      <td>61476.0</td>\n",
       "      <td>37174.0</td>\n",
       "      <td>8628.0</td>\n",
       "      <td>83122.0</td>\n",
       "      <td>14972.0</td>\n",
       "      <td>...</td>\n",
       "      <td>115534.731762</td>\n",
       "      <td>80668.0</td>\n",
       "      <td>27989.0</td>\n",
       "      <td>59248.0</td>\n",
       "      <td>17372.0</td>\n",
       "      <td>0.734467</td>\n",
       "      <td>0.620672</td>\n",
       "      <td>48.224196</td>\n",
       "      <td>331652</td>\n",
       "      <td>130249.0</td>\n",
       "    </tr>\n",
       "    <tr>\n",
       "      <th>2</th>\n",
       "      <td>Oakland</td>\n",
       "      <td>2016_11_08</td>\n",
       "      <td>2016</td>\n",
       "      <td>General</td>\n",
       "      <td>30600.0</td>\n",
       "      <td>61476.0</td>\n",
       "      <td>37174.0</td>\n",
       "      <td>8628.0</td>\n",
       "      <td>83122.0</td>\n",
       "      <td>16057.0</td>\n",
       "      <td>...</td>\n",
       "      <td>115534.731762</td>\n",
       "      <td>80668.0</td>\n",
       "      <td>27989.0</td>\n",
       "      <td>60766.0</td>\n",
       "      <td>18951.0</td>\n",
       "      <td>0.753285</td>\n",
       "      <td>0.677087</td>\n",
       "      <td>46.819512</td>\n",
       "      <td>331652</td>\n",
       "      <td>135633.0</td>\n",
       "    </tr>\n",
       "    <tr>\n",
       "      <th>3</th>\n",
       "      <td>Oakland</td>\n",
       "      <td>2014_11_04</td>\n",
       "      <td>2014</td>\n",
       "      <td>General</td>\n",
       "      <td>30600.0</td>\n",
       "      <td>61476.0</td>\n",
       "      <td>37174.0</td>\n",
       "      <td>8628.0</td>\n",
       "      <td>83122.0</td>\n",
       "      <td>8145.0</td>\n",
       "      <td>...</td>\n",
       "      <td>115534.731762</td>\n",
       "      <td>80668.0</td>\n",
       "      <td>27989.0</td>\n",
       "      <td>38216.0</td>\n",
       "      <td>10811.0</td>\n",
       "      <td>0.473744</td>\n",
       "      <td>0.386259</td>\n",
       "      <td>51.034918</td>\n",
       "      <td>331652</td>\n",
       "      <td>75153.0</td>\n",
       "    </tr>\n",
       "    <tr>\n",
       "      <th>4</th>\n",
       "      <td>Oakland</td>\n",
       "      <td>2021_11_02</td>\n",
       "      <td>2021</td>\n",
       "      <td>Consolidated_General</td>\n",
       "      <td>30600.0</td>\n",
       "      <td>61476.0</td>\n",
       "      <td>37174.0</td>\n",
       "      <td>8628.0</td>\n",
       "      <td>83122.0</td>\n",
       "      <td>1.0</td>\n",
       "      <td>...</td>\n",
       "      <td>115534.731762</td>\n",
       "      <td>80668.0</td>\n",
       "      <td>27989.0</td>\n",
       "      <td>2.0</td>\n",
       "      <td>1.0</td>\n",
       "      <td>0.000025</td>\n",
       "      <td>0.000036</td>\n",
       "      <td>55.732444</td>\n",
       "      <td>331652</td>\n",
       "      <td>7.0</td>\n",
       "    </tr>\n",
       "  </tbody>\n",
       "</table>\n",
       "<p>5 rows × 68 columns</p>\n",
       "</div>"
      ],
      "text/plain": [
       "  Residence_Addresses_City   elec_date  elec_year             elec_type  \\\n",
       "0                  Oakland  2020_11_03       2020               General   \n",
       "1                  Oakland  2018_11_06       2018               General   \n",
       "2                  Oakland  2016_11_08       2016               General   \n",
       "3                  Oakland  2014_11_04       2014               General   \n",
       "4                  Oakland  2021_11_02       2021  Consolidated_General   \n",
       "\n",
       "   total_voters_asian  total_voters_black  total_voters_hispanic  \\\n",
       "0             30600.0             61476.0                37174.0   \n",
       "1             30600.0             61476.0                37174.0   \n",
       "2             30600.0             61476.0                37174.0   \n",
       "3             30600.0             61476.0                37174.0   \n",
       "4             30600.0             61476.0                37174.0   \n",
       "\n",
       "   total_voters_others  total_voters_white  voted_voters_asian  ...  \\\n",
       "0               8628.0             83122.0             23041.0  ...   \n",
       "1               8628.0             83122.0             14972.0  ...   \n",
       "2               8628.0             83122.0             16057.0  ...   \n",
       "3               8628.0             83122.0              8145.0  ...   \n",
       "4               8628.0             83122.0                 1.0  ...   \n",
       "\n",
       "   CommercialData_EstimatedHHIncomeAmount  total_voters_college  \\\n",
       "0                           115534.731762               80668.0   \n",
       "1                           115534.731762               80668.0   \n",
       "2                           115534.731762               80668.0   \n",
       "3                           115534.731762               80668.0   \n",
       "4                           115534.731762               80668.0   \n",
       "\n",
       "   total_voters_no_college  voted_voters_college  voted_voters_no_college  \\\n",
       "0                  27989.0               71356.0                  22543.0   \n",
       "1                  27989.0               59248.0                  17372.0   \n",
       "2                  27989.0               60766.0                  18951.0   \n",
       "3                  27989.0               38216.0                  10811.0   \n",
       "4                  27989.0                   2.0                      1.0   \n",
       "\n",
       "   perc_turnout_college  perc_turnout_no_college   mean_age  voter_population  \\\n",
       "0              0.884564                 0.805424  47.829424            331652   \n",
       "1              0.734467                 0.620672  48.224196            331652   \n",
       "2              0.753285                 0.677087  46.819512            331652   \n",
       "3              0.473744                 0.386259  51.034918            331652   \n",
       "4              0.000025                 0.000036  55.732444            331652   \n",
       "\n",
       "   voted_voters  \n",
       "0      172221.0  \n",
       "1      130249.0  \n",
       "2      135633.0  \n",
       "3       75153.0  \n",
       "4           7.0  \n",
       "\n",
       "[5 rows x 68 columns]"
      ]
     },
     "execution_count": 2,
     "metadata": {},
     "output_type": "execute_result"
    }
   ],
   "source": [
    "ca_merged_df = pd.read_csv('voter_turnout_merged_california.csv')\n",
    "ca_merged_df.head()"
   ]
  },
  {
   "cell_type": "markdown",
   "id": "2fbe958a",
   "metadata": {},
   "source": [
    "### Plot turnout by election type"
   ]
  },
  {
   "cell_type": "code",
   "execution_count": 3,
   "id": "a756d851",
   "metadata": {},
   "outputs": [
    {
     "data": {
      "text/html": [
       "<div>\n",
       "<style scoped>\n",
       "    .dataframe tbody tr th:only-of-type {\n",
       "        vertical-align: middle;\n",
       "    }\n",
       "\n",
       "    .dataframe tbody tr th {\n",
       "        vertical-align: top;\n",
       "    }\n",
       "\n",
       "    .dataframe thead th {\n",
       "        text-align: right;\n",
       "    }\n",
       "</style>\n",
       "<table border=\"1\" class=\"dataframe\">\n",
       "  <thead>\n",
       "    <tr style=\"text-align: right;\">\n",
       "      <th></th>\n",
       "      <th>Residence_Addresses_City</th>\n",
       "      <th>elec_date</th>\n",
       "      <th>elec_year</th>\n",
       "      <th>elec_type</th>\n",
       "      <th>total_voters_asian</th>\n",
       "      <th>total_voters_black</th>\n",
       "      <th>total_voters_hispanic</th>\n",
       "      <th>total_voters_others</th>\n",
       "      <th>total_voters_white</th>\n",
       "      <th>voted_voters_asian</th>\n",
       "      <th>...</th>\n",
       "      <th>total_voters_college</th>\n",
       "      <th>total_voters_no_college</th>\n",
       "      <th>voted_voters_college</th>\n",
       "      <th>voted_voters_no_college</th>\n",
       "      <th>perc_turnout_college</th>\n",
       "      <th>perc_turnout_no_college</th>\n",
       "      <th>mean_age</th>\n",
       "      <th>voter_population</th>\n",
       "      <th>voted_voters</th>\n",
       "      <th>total_turnout</th>\n",
       "    </tr>\n",
       "  </thead>\n",
       "  <tbody>\n",
       "    <tr>\n",
       "      <th>0</th>\n",
       "      <td>Oakland</td>\n",
       "      <td>2020_11_03</td>\n",
       "      <td>2020</td>\n",
       "      <td>General</td>\n",
       "      <td>30600.0</td>\n",
       "      <td>61476.0</td>\n",
       "      <td>37174.0</td>\n",
       "      <td>8628.0</td>\n",
       "      <td>83122.0</td>\n",
       "      <td>23041.0</td>\n",
       "      <td>...</td>\n",
       "      <td>80668.0</td>\n",
       "      <td>27989.0</td>\n",
       "      <td>71356.0</td>\n",
       "      <td>22543.0</td>\n",
       "      <td>0.884564</td>\n",
       "      <td>0.805424</td>\n",
       "      <td>47.829424</td>\n",
       "      <td>331652</td>\n",
       "      <td>172221.0</td>\n",
       "      <td>0.519282</td>\n",
       "    </tr>\n",
       "    <tr>\n",
       "      <th>1</th>\n",
       "      <td>Oakland</td>\n",
       "      <td>2018_11_06</td>\n",
       "      <td>2018</td>\n",
       "      <td>General</td>\n",
       "      <td>30600.0</td>\n",
       "      <td>61476.0</td>\n",
       "      <td>37174.0</td>\n",
       "      <td>8628.0</td>\n",
       "      <td>83122.0</td>\n",
       "      <td>14972.0</td>\n",
       "      <td>...</td>\n",
       "      <td>80668.0</td>\n",
       "      <td>27989.0</td>\n",
       "      <td>59248.0</td>\n",
       "      <td>17372.0</td>\n",
       "      <td>0.734467</td>\n",
       "      <td>0.620672</td>\n",
       "      <td>48.224196</td>\n",
       "      <td>331652</td>\n",
       "      <td>130249.0</td>\n",
       "      <td>0.392728</td>\n",
       "    </tr>\n",
       "    <tr>\n",
       "      <th>2</th>\n",
       "      <td>Oakland</td>\n",
       "      <td>2016_11_08</td>\n",
       "      <td>2016</td>\n",
       "      <td>General</td>\n",
       "      <td>30600.0</td>\n",
       "      <td>61476.0</td>\n",
       "      <td>37174.0</td>\n",
       "      <td>8628.0</td>\n",
       "      <td>83122.0</td>\n",
       "      <td>16057.0</td>\n",
       "      <td>...</td>\n",
       "      <td>80668.0</td>\n",
       "      <td>27989.0</td>\n",
       "      <td>60766.0</td>\n",
       "      <td>18951.0</td>\n",
       "      <td>0.753285</td>\n",
       "      <td>0.677087</td>\n",
       "      <td>46.819512</td>\n",
       "      <td>331652</td>\n",
       "      <td>135633.0</td>\n",
       "      <td>0.408962</td>\n",
       "    </tr>\n",
       "    <tr>\n",
       "      <th>3</th>\n",
       "      <td>Oakland</td>\n",
       "      <td>2014_11_04</td>\n",
       "      <td>2014</td>\n",
       "      <td>General</td>\n",
       "      <td>30600.0</td>\n",
       "      <td>61476.0</td>\n",
       "      <td>37174.0</td>\n",
       "      <td>8628.0</td>\n",
       "      <td>83122.0</td>\n",
       "      <td>8145.0</td>\n",
       "      <td>...</td>\n",
       "      <td>80668.0</td>\n",
       "      <td>27989.0</td>\n",
       "      <td>38216.0</td>\n",
       "      <td>10811.0</td>\n",
       "      <td>0.473744</td>\n",
       "      <td>0.386259</td>\n",
       "      <td>51.034918</td>\n",
       "      <td>331652</td>\n",
       "      <td>75153.0</td>\n",
       "      <td>0.226602</td>\n",
       "    </tr>\n",
       "    <tr>\n",
       "      <th>4</th>\n",
       "      <td>Oakland</td>\n",
       "      <td>2021_11_02</td>\n",
       "      <td>2021</td>\n",
       "      <td>Consolidated_General</td>\n",
       "      <td>30600.0</td>\n",
       "      <td>61476.0</td>\n",
       "      <td>37174.0</td>\n",
       "      <td>8628.0</td>\n",
       "      <td>83122.0</td>\n",
       "      <td>1.0</td>\n",
       "      <td>...</td>\n",
       "      <td>80668.0</td>\n",
       "      <td>27989.0</td>\n",
       "      <td>2.0</td>\n",
       "      <td>1.0</td>\n",
       "      <td>0.000025</td>\n",
       "      <td>0.000036</td>\n",
       "      <td>55.732444</td>\n",
       "      <td>331652</td>\n",
       "      <td>7.0</td>\n",
       "      <td>0.000021</td>\n",
       "    </tr>\n",
       "  </tbody>\n",
       "</table>\n",
       "<p>5 rows × 69 columns</p>\n",
       "</div>"
      ],
      "text/plain": [
       "  Residence_Addresses_City   elec_date  elec_year             elec_type  \\\n",
       "0                  Oakland  2020_11_03       2020               General   \n",
       "1                  Oakland  2018_11_06       2018               General   \n",
       "2                  Oakland  2016_11_08       2016               General   \n",
       "3                  Oakland  2014_11_04       2014               General   \n",
       "4                  Oakland  2021_11_02       2021  Consolidated_General   \n",
       "\n",
       "   total_voters_asian  total_voters_black  total_voters_hispanic  \\\n",
       "0             30600.0             61476.0                37174.0   \n",
       "1             30600.0             61476.0                37174.0   \n",
       "2             30600.0             61476.0                37174.0   \n",
       "3             30600.0             61476.0                37174.0   \n",
       "4             30600.0             61476.0                37174.0   \n",
       "\n",
       "   total_voters_others  total_voters_white  voted_voters_asian  ...  \\\n",
       "0               8628.0             83122.0             23041.0  ...   \n",
       "1               8628.0             83122.0             14972.0  ...   \n",
       "2               8628.0             83122.0             16057.0  ...   \n",
       "3               8628.0             83122.0              8145.0  ...   \n",
       "4               8628.0             83122.0                 1.0  ...   \n",
       "\n",
       "   total_voters_college  total_voters_no_college  voted_voters_college  \\\n",
       "0               80668.0                  27989.0               71356.0   \n",
       "1               80668.0                  27989.0               59248.0   \n",
       "2               80668.0                  27989.0               60766.0   \n",
       "3               80668.0                  27989.0               38216.0   \n",
       "4               80668.0                  27989.0                   2.0   \n",
       "\n",
       "   voted_voters_no_college  perc_turnout_college  perc_turnout_no_college  \\\n",
       "0                  22543.0              0.884564                 0.805424   \n",
       "1                  17372.0              0.734467                 0.620672   \n",
       "2                  18951.0              0.753285                 0.677087   \n",
       "3                  10811.0              0.473744                 0.386259   \n",
       "4                      1.0              0.000025                 0.000036   \n",
       "\n",
       "    mean_age  voter_population  voted_voters  total_turnout  \n",
       "0  47.829424            331652      172221.0       0.519282  \n",
       "1  48.224196            331652      130249.0       0.392728  \n",
       "2  46.819512            331652      135633.0       0.408962  \n",
       "3  51.034918            331652       75153.0       0.226602  \n",
       "4  55.732444            331652           7.0       0.000021  \n",
       "\n",
       "[5 rows x 69 columns]"
      ]
     },
     "execution_count": 3,
     "metadata": {},
     "output_type": "execute_result"
    }
   ],
   "source": [
    "ca_merged_df['total_turnout'] = ca_merged_df['voted_voters'] / ca_merged_df['voter_population']\n",
    "ca_merged_df.head()"
   ]
  },
  {
   "cell_type": "code",
   "execution_count": 4,
   "id": "ff72354d",
   "metadata": {},
   "outputs": [
    {
     "data": {
      "text/plain": [
       "elec_type\n",
       "Consolidated_General    0.008132\n",
       "General                 0.434623\n",
       "Local_or_Municipal      0.001209\n",
       "Name: total_turnout, dtype: float64"
      ]
     },
     "execution_count": 4,
     "metadata": {},
     "output_type": "execute_result"
    }
   ],
   "source": [
    "avg_turnout_by_election_type = ca_merged_df.groupby(['elec_type']).mean()['total_turnout']\n",
    "avg_turnout_by_election_type"
   ]
  },
  {
   "cell_type": "code",
   "execution_count": 5,
   "id": "23c69b09",
   "metadata": {},
   "outputs": [
    {
     "data": {
      "text/plain": [
       "Text(0.5, 1.0, 'Average turnout by election (California)')"
      ]
     },
     "execution_count": 5,
     "metadata": {},
     "output_type": "execute_result"
    },
    {
     "data": {
      "image/png": "[encoded data removed]",
      "text/plain": [
       "<Figure size 432x288 with 1 Axes>"
      ]
     },
     "metadata": {
      "needs_background": "light"
     },
     "output_type": "display_data"
    }
   ],
   "source": [
    "plt.bar(['Consolidated_General', 'General', 'Local_or_Municipal'], avg_turnout_by_election_type)\n",
    "plt.title('Average turnout by election (California)')"
   ]
  },
  {
   "cell_type": "markdown",
   "id": "34a93f39",
   "metadata": {},
   "source": [
    "### Plot turnout by election type (RCV vs. Non-RCV)"
   ]
  },
  {
   "cell_type": "code",
   "execution_count": 12,
   "id": "1727d432",
   "metadata": {},
   "outputs": [],
   "source": [
    "rcv_cities = ['Albany', 'Berkeley', 'Eureka', 'Oakland', 'Palm Desert', 'San Francisco', 'San Leandro']\n",
    "non_rcv_cities = list(set(ca_merged_df['Residence_Addresses_City']) - set(rcv_cities))"
   ]
  },
  {
   "cell_type": "code",
   "execution_count": 26,
   "id": "f8491760",
   "metadata": {},
   "outputs": [],
   "source": [
    "rcv_df = ca_merged_df[ca_merged_df['Residence_Addresses_City'].isin(rcv_cities)]\n",
    "non_rcv_df = ca_merged_df[ca_merged_df['Residence_Addresses_City'].isin(non_rcv_cities)]"
   ]
  },
  {
   "cell_type": "code",
   "execution_count": 29,
   "id": "8505ec1d",
   "metadata": {},
   "outputs": [
    {
     "data": {
      "text/plain": [
       "elec_type\n",
       "Consolidated_General    0.002129\n",
       "General                 0.470086\n",
       "Local_or_Municipal      0.000250\n",
       "Name: total_turnout, dtype: float64"
      ]
     },
     "execution_count": 29,
     "metadata": {},
     "output_type": "execute_result"
    }
   ],
   "source": [
    "avg_turnout_by_election_type_rcv = rcv_df.groupby(['elec_type']).mean()['total_turnout']\n",
    "avg_turnout_by_election_type_rcv"
   ]
  },
  {
   "cell_type": "code",
   "execution_count": 30,
   "id": "93b3e625",
   "metadata": {},
   "outputs": [
    {
     "data": {
      "text/plain": [
       "Text(0.5, 1.0, 'Average turnout by election (California RCV)')"
      ]
     },
     "execution_count": 30,
     "metadata": {},
     "output_type": "execute_result"
    },
    {
     "data": {
      "image/png": "[encoded data removed]",
      "text/plain": [
       "<Figure size 432x288 with 1 Axes>"
      ]
     },
     "metadata": {
      "needs_background": "light"
     },
     "output_type": "display_data"
    }
   ],
   "source": [
    "plt.bar(['Consolidated_General', 'General', 'Local_or_Municipal'], avg_turnout_by_election_type_rcv)\n",
    "plt.title('Average turnout by election (California RCV)')"
   ]
  },
  {
   "cell_type": "code",
   "execution_count": 31,
   "id": "badce72e",
   "metadata": {},
   "outputs": [
    {
     "data": {
      "text/plain": [
       "elec_type\n",
       "Consolidated_General    0.009333\n",
       "General                 0.427100\n",
       "Local_or_Municipal      0.001417\n",
       "Name: total_turnout, dtype: float64"
      ]
     },
     "execution_count": 31,
     "metadata": {},
     "output_type": "execute_result"
    }
   ],
   "source": [
    "avg_turnout_by_election_type_non_rcv = non_rcv_df.groupby(['elec_type']).mean()['total_turnout']\n",
    "avg_turnout_by_election_type_non_rcv"
   ]
  },
  {
   "cell_type": "code",
   "execution_count": 32,
   "id": "c8fd67b2",
   "metadata": {},
   "outputs": [
    {
     "data": {
      "text/plain": [
       "Text(0.5, 1.0, 'Average turnout by election (California Non-RCV)')"
      ]
     },
     "execution_count": 32,
     "metadata": {},
     "output_type": "execute_result"
    },
    {
     "data": {
      "image/png": "[encoded data removed]",
      "text/plain": [
       "<Figure size 432x288 with 1 Axes>"
      ]
     },
     "metadata": {
      "needs_background": "light"
     },
     "output_type": "display_data"
    }
   ],
   "source": [
    "plt.bar(['Consolidated_General', 'General', 'Local_or_Municipal'], avg_turnout_by_election_type_non_rcv)\n",
    "plt.title('Average turnout by election (California Non-RCV)')"
   ]
  },
  {
   "cell_type": "code",
   "execution_count": 39,
   "id": "946d0edf",
   "metadata": {},
   "outputs": [
    {
     "data": {
      "text/plain": [
       "0    115534.731762\n",
       "1    115534.731762\n",
       "2    115534.731762\n",
       "3    115534.731762\n",
       "4    115534.731762\n",
       "5    115534.731762\n",
       "6    115534.731762\n",
       "7    115534.731762\n",
       "Name: CommercialData_EstimatedHHIncomeAmount, dtype: float64"
      ]
     },
     "execution_count": 39,
     "metadata": {},
     "output_type": "execute_result"
    }
   ],
   "source": [
    "ca_merged_df[ca_merged_df['Residence_Addresses_City']=='Oakland']['CommercialData_EstimatedHHIncomeAmount']"
   ]
  },
  {
   "cell_type": "markdown",
   "id": "b7d77ceb",
   "metadata": {},
   "source": [
    "### Income by election type"
   ]
  },
  {
   "cell_type": "code",
   "execution_count": 47,
   "id": "fda74ee4",
   "metadata": {},
   "outputs": [
    {
     "data": {
      "text/plain": [
       "Index(['Residence_Addresses_City', 'elec_date', 'elec_year', 'elec_type',\n",
       "       'total_voters_asian', 'total_voters_black', 'total_voters_hispanic',\n",
       "       'total_voters_others', 'total_voters_white', 'voted_voters_asian',\n",
       "       'voted_voters_black', 'voted_voters_hispanic', 'voted_voters_others',\n",
       "       'voted_voters_white', 'perc_turnout_asian', 'perc_turnout_black',\n",
       "       'perc_turnout_hispanic', 'perc_turnout_others', 'perc_turnout_white',\n",
       "       'FECDonors_TotalDonationsAmount', 'FECDonors_NumberOfDonations',\n",
       "       'mean_donation', 'total_voters_$1000-14999',\n",
       "       'total_voters_$100000-124999', 'total_voters_$125000-149999',\n",
       "       'total_voters_$15000-24999', 'total_voters_$150000-174999',\n",
       "       'total_voters_$175000-199999', 'total_voters_$200000-249999',\n",
       "       'total_voters_$25000-34999', 'total_voters_$250000+',\n",
       "       'total_voters_$35000-49999', 'total_voters_$50000-74999',\n",
       "       'total_voters_$75000-99999', 'voted_voters_$1000-14999',\n",
       "       'voted_voters_$100000-124999', 'voted_voters_$125000-149999',\n",
       "       'voted_voters_$15000-24999', 'voted_voters_$150000-174999',\n",
       "       'voted_voters_$175000-199999', 'voted_voters_$200000-249999',\n",
       "       'voted_voters_$25000-34999', 'voted_voters_$250000+',\n",
       "       'voted_voters_$35000-49999', 'voted_voters_$50000-74999',\n",
       "       'voted_voters_$75000-99999', 'perc_turnout_income_$1000-14999',\n",
       "       'perc_turnout_income_$100000-124999',\n",
       "       'perc_turnout_income_$125000-149999',\n",
       "       'perc_turnout_income_$15000-24999',\n",
       "       'perc_turnout_income_$150000-174999',\n",
       "       'perc_turnout_income_$175000-199999',\n",
       "       'perc_turnout_income_$200000-249999',\n",
       "       'perc_turnout_income_$25000-34999', 'perc_turnout_income_$250000+',\n",
       "       'perc_turnout_income_$35000-49999', 'perc_turnout_income_$50000-74999',\n",
       "       'perc_turnout_income_$75000-99999',\n",
       "       'CommercialData_EstimatedHHIncomeAmount', 'total_voters_college',\n",
       "       'total_voters_no_college', 'voted_voters_college',\n",
       "       'voted_voters_no_college', 'perc_turnout_college',\n",
       "       'perc_turnout_no_college', 'mean_age', 'voter_population',\n",
       "       'voted_voters', 'total_turnout'],\n",
       "      dtype='object')"
      ]
     },
     "execution_count": 47,
     "metadata": {},
     "output_type": "execute_result"
    }
   ],
   "source": [
    "ca_merged_df.columns"
   ]
  },
  {
   "cell_type": "code",
   "execution_count": 43,
   "id": "9b3de92f",
   "metadata": {},
   "outputs": [],
   "source": [
    "consolidated_general_df = ca_merged_df[ca_merged_df['elec_type']=='Consolidated_General']\n",
    "general_df = ca_merged_df[ca_merged_df['elec_type']=='General']\n",
    "local_municipal_df = ca_merged_df[ca_merged_df['elec_type']=='Local_or_Municipal']"
   ]
  },
  {
   "cell_type": "code",
   "execution_count": 71,
   "id": "daa647c9",
   "metadata": {},
   "outputs": [
    {
     "data": {
      "text/plain": [
       "voted_voters_$1000-14999        920.0\n",
       "voted_voters_$15000-24999      1298.0\n",
       "voted_voters_$25000-34999      1836.0\n",
       "voted_voters_$35000-49999      3943.0\n",
       "voted_voters_$50000-74999      9418.0\n",
       "voted_voters_$75000-99999      8655.0\n",
       "voted_voters_$100000-124999    6009.0\n",
       "voted_voters_$125000-149999    5607.0\n",
       "voted_voters_$150000-174999    3209.0\n",
       "voted_voters_$175000-199999    2769.0\n",
       "voted_voters_$200000-249999    3532.0\n",
       "voted_voters_$250000+          3188.0\n",
       "dtype: float64"
      ]
     },
     "execution_count": 71,
     "metadata": {},
     "output_type": "execute_result"
    }
   ],
   "source": [
    "income_cols = ['voted_voters_$1000-14999',\n",
    "               'voted_voters_$100000-124999', 'voted_voters_$125000-149999',\n",
    "               'voted_voters_$15000-24999', 'voted_voters_$150000-174999',\n",
    "               'voted_voters_$175000-199999', 'voted_voters_$200000-249999',\n",
    "               'voted_voters_$25000-34999', 'voted_voters_$250000+',\n",
    "               'voted_voters_$35000-49999', 'voted_voters_$50000-74999',\n",
    "               'voted_voters_$75000-99999']\n",
    "\n",
    "ordered_income_cols = ['voted_voters_$1000-14999',\n",
    "                      'voted_voters_$15000-24999',\n",
    "                      'voted_voters_$25000-34999',\n",
    "                      'voted_voters_$35000-49999',\n",
    "                      'voted_voters_$50000-74999',\n",
    "                      'voted_voters_$75000-99999',\n",
    "                      'voted_voters_$100000-124999',\n",
    "                      'voted_voters_$125000-149999',\n",
    "                      'voted_voters_$150000-174999',\n",
    "                      'voted_voters_$175000-199999',\n",
    "                      'voted_voters_$200000-249999',\n",
    "                      'voted_voters_$250000+']\n",
    "\n",
    "consolidated_general_income = consolidated_general_df[income_cols].drop_duplicates().sum(axis=0)\n",
    "general_income = general_df[income_cols].drop_duplicates().sum(axis=0)\n",
    "local_municipal_income = local_municipal_df[income_cols].drop_duplicates().sum(axis=0)\n",
    "\n",
    "consolidated_general_income = consolidated_general_income.reindex(ordered_income_cols)\n",
    "general_income = general_income.reindex(ordered_income_cols)\n",
    "local_municipal_income = local_municipal_income.reindex(ordered_income_cols)\n",
    "\n",
    "consolidated_general"
   ]
  },
  {
   "cell_type": "code",
   "execution_count": 86,
   "id": "55e11e0c",
   "metadata": {},
   "outputs": [
    {
     "data": {
      "image/png": "[encoded data removed]",
      "text/plain": [
       "<Figure size 1080x864 with 3 Axes>"
      ]
     },
     "metadata": {
      "needs_background": "light"
     },
     "output_type": "display_data"
    }
   ],
   "source": [
    "x_labels = ['$1000-14999',\n",
    "          '$15000-24999',\n",
    "          '$25000-34999',\n",
    "          '$35000-49999',\n",
    "          '$50000-74999',\n",
    "          '$75000-99999',\n",
    "          '$100000-124999',\n",
    "          '$125000-149999',\n",
    "          '$150000-174999',\n",
    "          '$175000-199999',\n",
    "          '$200000-249999',\n",
    "          '$250000+']\n",
    "\n",
    "fig, axs = plt.subplots(3, figsize=(15, 12))\n",
    "\n",
    "\n",
    "axs[0].bar(x_labels, consolidated_general_income)\n",
    "axs[0].title.set_text('Consolidated General Election Voter Income')\n",
    "axs[0].tick_params(labelrotation=45)\n",
    "\n",
    "axs[1].bar(x_labels, general_income)\n",
    "axs[1].title.set_text('General Election Voter Income')\n",
    "axs[1].tick_params(labelrotation=45)\n",
    "\n",
    "axs[2].bar(x_labels, local_municipal_income)\n",
    "axs[2].title.set_text('Local or Municipal Election Voter Income')\n",
    "axs[2].tick_params(labelrotation=45)\n",
    "\n",
    "fig.tight_layout()"
   ]
  },
  {
   "cell_type": "code",
   "execution_count": null,
   "id": "3d8b35fa",
   "metadata": {},
   "outputs": [],
   "source": []
  }
 ],
 "metadata": {
  "kernelspec": {
   "display_name": "Python 3",
   "language": "python",
   "name": "python3"
  },
  "language_info": {
   "codemirror_mode": {
    "name": "ipython",
    "version": 3
   },
   "file_extension": ".py",
   "mimetype": "text/x-python",
   "name": "python",
   "nbconvert_exporter": "python",
   "pygments_lexer": "ipython3",
   "version": "3.8.8"
  }
 },
 "nbformat": 4,
 "nbformat_minor": 5
}
