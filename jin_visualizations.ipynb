{
 "cells": [
  {
   "cell_type": "code",
   "execution_count": 1,
   "id": "805c04fc",
   "metadata": {},
   "outputs": [],
   "source": [
    "import pandas as pd\n",
    "import matplotlib.pyplot as plt\n",
    "import numpy as np"
   ]
  },
  {
   "cell_type": "code",
   "execution_count": 2,
   "id": "b36046f0",
   "metadata": {},
   "outputs": [
    {
     "data": {
      "text/html": [
       "<div>\n",
       "<style scoped>\n",
       "    .dataframe tbody tr th:only-of-type {\n",
       "        vertical-align: middle;\n",
       "    }\n",
       "\n",
       "    .dataframe tbody tr th {\n",
       "        vertical-align: top;\n",
       "    }\n",
       "\n",
       "    .dataframe thead th {\n",
       "        text-align: right;\n",
       "    }\n",
       "</style>\n",
       "<table border=\"1\" class=\"dataframe\">\n",
       "  <thead>\n",
       "    <tr style=\"text-align: right;\">\n",
       "      <th></th>\n",
       "      <th>Residence_Addresses_City</th>\n",
       "      <th>elec_date</th>\n",
       "      <th>elec_year</th>\n",
       "      <th>elec_type</th>\n",
       "      <th>total_voters_asian</th>\n",
       "      <th>total_voters_black</th>\n",
       "      <th>total_voters_hispanic</th>\n",
       "      <th>total_voters_others</th>\n",
       "      <th>total_voters_white</th>\n",
       "      <th>voted_voters_asian</th>\n",
       "      <th>...</th>\n",
       "      <th>total_voters_college</th>\n",
       "      <th>total_voters_no_college</th>\n",
       "      <th>voted_voters_college</th>\n",
       "      <th>voted_voters_no_college</th>\n",
       "      <th>perc_turnout_college</th>\n",
       "      <th>perc_turnout_no_college</th>\n",
       "      <th>mean_age</th>\n",
       "      <th>voter_population</th>\n",
       "      <th>voted_voters</th>\n",
       "      <th>state</th>\n",
       "    </tr>\n",
       "  </thead>\n",
       "  <tbody>\n",
       "    <tr>\n",
       "      <th>0</th>\n",
       "      <td>Oakland</td>\n",
       "      <td>2020_11_03</td>\n",
       "      <td>2020</td>\n",
       "      <td>General</td>\n",
       "      <td>30600.0</td>\n",
       "      <td>61476.0</td>\n",
       "      <td>37174.0</td>\n",
       "      <td>8628.0</td>\n",
       "      <td>83122</td>\n",
       "      <td>23041.0</td>\n",
       "      <td>...</td>\n",
       "      <td>80668</td>\n",
       "      <td>27989.0</td>\n",
       "      <td>71356</td>\n",
       "      <td>22543.0</td>\n",
       "      <td>88.456389</td>\n",
       "      <td>80.542356</td>\n",
       "      <td>47.829424</td>\n",
       "      <td>331652</td>\n",
       "      <td>172221</td>\n",
       "      <td>CA</td>\n",
       "    </tr>\n",
       "    <tr>\n",
       "      <th>1</th>\n",
       "      <td>Oakland</td>\n",
       "      <td>2018_11_06</td>\n",
       "      <td>2018</td>\n",
       "      <td>General</td>\n",
       "      <td>30600.0</td>\n",
       "      <td>61476.0</td>\n",
       "      <td>37174.0</td>\n",
       "      <td>8628.0</td>\n",
       "      <td>83122</td>\n",
       "      <td>14972.0</td>\n",
       "      <td>...</td>\n",
       "      <td>80668</td>\n",
       "      <td>27989.0</td>\n",
       "      <td>59248</td>\n",
       "      <td>17372.0</td>\n",
       "      <td>73.446720</td>\n",
       "      <td>62.067241</td>\n",
       "      <td>48.224196</td>\n",
       "      <td>331652</td>\n",
       "      <td>130249</td>\n",
       "      <td>CA</td>\n",
       "    </tr>\n",
       "    <tr>\n",
       "      <th>2</th>\n",
       "      <td>Oakland</td>\n",
       "      <td>2016_11_08</td>\n",
       "      <td>2016</td>\n",
       "      <td>General</td>\n",
       "      <td>30600.0</td>\n",
       "      <td>61476.0</td>\n",
       "      <td>37174.0</td>\n",
       "      <td>8628.0</td>\n",
       "      <td>83122</td>\n",
       "      <td>16057.0</td>\n",
       "      <td>...</td>\n",
       "      <td>80668</td>\n",
       "      <td>27989.0</td>\n",
       "      <td>60766</td>\n",
       "      <td>18951.0</td>\n",
       "      <td>75.328507</td>\n",
       "      <td>67.708743</td>\n",
       "      <td>46.819512</td>\n",
       "      <td>331652</td>\n",
       "      <td>135633</td>\n",
       "      <td>CA</td>\n",
       "    </tr>\n",
       "    <tr>\n",
       "      <th>3</th>\n",
       "      <td>Oakland</td>\n",
       "      <td>2014_11_04</td>\n",
       "      <td>2014</td>\n",
       "      <td>General</td>\n",
       "      <td>30600.0</td>\n",
       "      <td>61476.0</td>\n",
       "      <td>37174.0</td>\n",
       "      <td>8628.0</td>\n",
       "      <td>83122</td>\n",
       "      <td>8145.0</td>\n",
       "      <td>...</td>\n",
       "      <td>80668</td>\n",
       "      <td>27989.0</td>\n",
       "      <td>38216</td>\n",
       "      <td>10811.0</td>\n",
       "      <td>47.374424</td>\n",
       "      <td>38.625889</td>\n",
       "      <td>51.034918</td>\n",
       "      <td>331652</td>\n",
       "      <td>75153</td>\n",
       "      <td>CA</td>\n",
       "    </tr>\n",
       "    <tr>\n",
       "      <th>4</th>\n",
       "      <td>San Leandro</td>\n",
       "      <td>2020_11_03</td>\n",
       "      <td>2020</td>\n",
       "      <td>General</td>\n",
       "      <td>12705.0</td>\n",
       "      <td>5596.0</td>\n",
       "      <td>16028.0</td>\n",
       "      <td>2429.0</td>\n",
       "      <td>17780</td>\n",
       "      <td>9229.0</td>\n",
       "      <td>...</td>\n",
       "      <td>19051</td>\n",
       "      <td>10653.0</td>\n",
       "      <td>16014</td>\n",
       "      <td>8674.0</td>\n",
       "      <td>84.058580</td>\n",
       "      <td>81.423073</td>\n",
       "      <td>49.752550</td>\n",
       "      <td>70359</td>\n",
       "      <td>41879</td>\n",
       "      <td>CA</td>\n",
       "    </tr>\n",
       "  </tbody>\n",
       "</table>\n",
       "<p>5 rows × 69 columns</p>\n",
       "</div>"
      ],
      "text/plain": [
       "  Residence_Addresses_City   elec_date  elec_year elec_type  \\\n",
       "0                  Oakland  2020_11_03       2020   General   \n",
       "1                  Oakland  2018_11_06       2018   General   \n",
       "2                  Oakland  2016_11_08       2016   General   \n",
       "3                  Oakland  2014_11_04       2014   General   \n",
       "4              San Leandro  2020_11_03       2020   General   \n",
       "\n",
       "   total_voters_asian  total_voters_black  total_voters_hispanic  \\\n",
       "0             30600.0             61476.0                37174.0   \n",
       "1             30600.0             61476.0                37174.0   \n",
       "2             30600.0             61476.0                37174.0   \n",
       "3             30600.0             61476.0                37174.0   \n",
       "4             12705.0              5596.0                16028.0   \n",
       "\n",
       "   total_voters_others  total_voters_white  voted_voters_asian  ...  \\\n",
       "0               8628.0               83122             23041.0  ...   \n",
       "1               8628.0               83122             14972.0  ...   \n",
       "2               8628.0               83122             16057.0  ...   \n",
       "3               8628.0               83122              8145.0  ...   \n",
       "4               2429.0               17780              9229.0  ...   \n",
       "\n",
       "   total_voters_college  total_voters_no_college  voted_voters_college  \\\n",
       "0                 80668                  27989.0                 71356   \n",
       "1                 80668                  27989.0                 59248   \n",
       "2                 80668                  27989.0                 60766   \n",
       "3                 80668                  27989.0                 38216   \n",
       "4                 19051                  10653.0                 16014   \n",
       "\n",
       "   voted_voters_no_college  perc_turnout_college  perc_turnout_no_college  \\\n",
       "0                  22543.0             88.456389                80.542356   \n",
       "1                  17372.0             73.446720                62.067241   \n",
       "2                  18951.0             75.328507                67.708743   \n",
       "3                  10811.0             47.374424                38.625889   \n",
       "4                   8674.0             84.058580                81.423073   \n",
       "\n",
       "    mean_age  voter_population  voted_voters  state  \n",
       "0  47.829424            331652        172221     CA  \n",
       "1  48.224196            331652        130249     CA  \n",
       "2  46.819512            331652        135633     CA  \n",
       "3  51.034918            331652         75153     CA  \n",
       "4  49.752550             70359         41879     CA  \n",
       "\n",
       "[5 rows x 69 columns]"
      ]
     },
     "execution_count": 2,
     "metadata": {},
     "output_type": "execute_result"
    }
   ],
   "source": [
    "df = pd.read_csv('../Downloads/voter_turnout_merged_all_states.csv')\n",
    "df.head()"
   ]
  },
  {
   "cell_type": "markdown",
   "id": "2fbe958a",
   "metadata": {},
   "source": [
    "### Plot turnout by election type"
   ]
  },
  {
   "cell_type": "code",
   "execution_count": 3,
   "id": "a756d851",
   "metadata": {},
   "outputs": [
    {
     "data": {
      "text/html": [
       "<div>\n",
       "<style scoped>\n",
       "    .dataframe tbody tr th:only-of-type {\n",
       "        vertical-align: middle;\n",
       "    }\n",
       "\n",
       "    .dataframe tbody tr th {\n",
       "        vertical-align: top;\n",
       "    }\n",
       "\n",
       "    .dataframe thead th {\n",
       "        text-align: right;\n",
       "    }\n",
       "</style>\n",
       "<table border=\"1\" class=\"dataframe\">\n",
       "  <thead>\n",
       "    <tr style=\"text-align: right;\">\n",
       "      <th></th>\n",
       "      <th>Residence_Addresses_City</th>\n",
       "      <th>elec_date</th>\n",
       "      <th>elec_year</th>\n",
       "      <th>elec_type</th>\n",
       "      <th>total_voters_asian</th>\n",
       "      <th>total_voters_black</th>\n",
       "      <th>total_voters_hispanic</th>\n",
       "      <th>total_voters_others</th>\n",
       "      <th>total_voters_white</th>\n",
       "      <th>voted_voters_asian</th>\n",
       "      <th>...</th>\n",
       "      <th>total_voters_no_college</th>\n",
       "      <th>voted_voters_college</th>\n",
       "      <th>voted_voters_no_college</th>\n",
       "      <th>perc_turnout_college</th>\n",
       "      <th>perc_turnout_no_college</th>\n",
       "      <th>mean_age</th>\n",
       "      <th>voter_population</th>\n",
       "      <th>voted_voters</th>\n",
       "      <th>state</th>\n",
       "      <th>total_turnout</th>\n",
       "    </tr>\n",
       "  </thead>\n",
       "  <tbody>\n",
       "    <tr>\n",
       "      <th>0</th>\n",
       "      <td>Oakland</td>\n",
       "      <td>2020_11_03</td>\n",
       "      <td>2020</td>\n",
       "      <td>General</td>\n",
       "      <td>30600.0</td>\n",
       "      <td>61476.0</td>\n",
       "      <td>37174.0</td>\n",
       "      <td>8628.0</td>\n",
       "      <td>83122</td>\n",
       "      <td>23041.0</td>\n",
       "      <td>...</td>\n",
       "      <td>27989.0</td>\n",
       "      <td>71356</td>\n",
       "      <td>22543.0</td>\n",
       "      <td>88.456389</td>\n",
       "      <td>80.542356</td>\n",
       "      <td>47.829424</td>\n",
       "      <td>331652</td>\n",
       "      <td>172221</td>\n",
       "      <td>CA</td>\n",
       "      <td>0.519282</td>\n",
       "    </tr>\n",
       "    <tr>\n",
       "      <th>1</th>\n",
       "      <td>Oakland</td>\n",
       "      <td>2018_11_06</td>\n",
       "      <td>2018</td>\n",
       "      <td>General</td>\n",
       "      <td>30600.0</td>\n",
       "      <td>61476.0</td>\n",
       "      <td>37174.0</td>\n",
       "      <td>8628.0</td>\n",
       "      <td>83122</td>\n",
       "      <td>14972.0</td>\n",
       "      <td>...</td>\n",
       "      <td>27989.0</td>\n",
       "      <td>59248</td>\n",
       "      <td>17372.0</td>\n",
       "      <td>73.446720</td>\n",
       "      <td>62.067241</td>\n",
       "      <td>48.224196</td>\n",
       "      <td>331652</td>\n",
       "      <td>130249</td>\n",
       "      <td>CA</td>\n",
       "      <td>0.392728</td>\n",
       "    </tr>\n",
       "    <tr>\n",
       "      <th>2</th>\n",
       "      <td>Oakland</td>\n",
       "      <td>2016_11_08</td>\n",
       "      <td>2016</td>\n",
       "      <td>General</td>\n",
       "      <td>30600.0</td>\n",
       "      <td>61476.0</td>\n",
       "      <td>37174.0</td>\n",
       "      <td>8628.0</td>\n",
       "      <td>83122</td>\n",
       "      <td>16057.0</td>\n",
       "      <td>...</td>\n",
       "      <td>27989.0</td>\n",
       "      <td>60766</td>\n",
       "      <td>18951.0</td>\n",
       "      <td>75.328507</td>\n",
       "      <td>67.708743</td>\n",
       "      <td>46.819512</td>\n",
       "      <td>331652</td>\n",
       "      <td>135633</td>\n",
       "      <td>CA</td>\n",
       "      <td>0.408962</td>\n",
       "    </tr>\n",
       "    <tr>\n",
       "      <th>3</th>\n",
       "      <td>Oakland</td>\n",
       "      <td>2014_11_04</td>\n",
       "      <td>2014</td>\n",
       "      <td>General</td>\n",
       "      <td>30600.0</td>\n",
       "      <td>61476.0</td>\n",
       "      <td>37174.0</td>\n",
       "      <td>8628.0</td>\n",
       "      <td>83122</td>\n",
       "      <td>8145.0</td>\n",
       "      <td>...</td>\n",
       "      <td>27989.0</td>\n",
       "      <td>38216</td>\n",
       "      <td>10811.0</td>\n",
       "      <td>47.374424</td>\n",
       "      <td>38.625889</td>\n",
       "      <td>51.034918</td>\n",
       "      <td>331652</td>\n",
       "      <td>75153</td>\n",
       "      <td>CA</td>\n",
       "      <td>0.226602</td>\n",
       "    </tr>\n",
       "    <tr>\n",
       "      <th>4</th>\n",
       "      <td>San Leandro</td>\n",
       "      <td>2020_11_03</td>\n",
       "      <td>2020</td>\n",
       "      <td>General</td>\n",
       "      <td>12705.0</td>\n",
       "      <td>5596.0</td>\n",
       "      <td>16028.0</td>\n",
       "      <td>2429.0</td>\n",
       "      <td>17780</td>\n",
       "      <td>9229.0</td>\n",
       "      <td>...</td>\n",
       "      <td>10653.0</td>\n",
       "      <td>16014</td>\n",
       "      <td>8674.0</td>\n",
       "      <td>84.058580</td>\n",
       "      <td>81.423073</td>\n",
       "      <td>49.752550</td>\n",
       "      <td>70359</td>\n",
       "      <td>41879</td>\n",
       "      <td>CA</td>\n",
       "      <td>0.595219</td>\n",
       "    </tr>\n",
       "  </tbody>\n",
       "</table>\n",
       "<p>5 rows × 70 columns</p>\n",
       "</div>"
      ],
      "text/plain": [
       "  Residence_Addresses_City   elec_date  elec_year elec_type  \\\n",
       "0                  Oakland  2020_11_03       2020   General   \n",
       "1                  Oakland  2018_11_06       2018   General   \n",
       "2                  Oakland  2016_11_08       2016   General   \n",
       "3                  Oakland  2014_11_04       2014   General   \n",
       "4              San Leandro  2020_11_03       2020   General   \n",
       "\n",
       "   total_voters_asian  total_voters_black  total_voters_hispanic  \\\n",
       "0             30600.0             61476.0                37174.0   \n",
       "1             30600.0             61476.0                37174.0   \n",
       "2             30600.0             61476.0                37174.0   \n",
       "3             30600.0             61476.0                37174.0   \n",
       "4             12705.0              5596.0                16028.0   \n",
       "\n",
       "   total_voters_others  total_voters_white  voted_voters_asian  ...  \\\n",
       "0               8628.0               83122             23041.0  ...   \n",
       "1               8628.0               83122             14972.0  ...   \n",
       "2               8628.0               83122             16057.0  ...   \n",
       "3               8628.0               83122              8145.0  ...   \n",
       "4               2429.0               17780              9229.0  ...   \n",
       "\n",
       "   total_voters_no_college  voted_voters_college  voted_voters_no_college  \\\n",
       "0                  27989.0                 71356                  22543.0   \n",
       "1                  27989.0                 59248                  17372.0   \n",
       "2                  27989.0                 60766                  18951.0   \n",
       "3                  27989.0                 38216                  10811.0   \n",
       "4                  10653.0                 16014                   8674.0   \n",
       "\n",
       "   perc_turnout_college  perc_turnout_no_college   mean_age  voter_population  \\\n",
       "0             88.456389                80.542356  47.829424            331652   \n",
       "1             73.446720                62.067241  48.224196            331652   \n",
       "2             75.328507                67.708743  46.819512            331652   \n",
       "3             47.374424                38.625889  51.034918            331652   \n",
       "4             84.058580                81.423073  49.752550             70359   \n",
       "\n",
       "   voted_voters  state  total_turnout  \n",
       "0        172221     CA       0.519282  \n",
       "1        130249     CA       0.392728  \n",
       "2        135633     CA       0.408962  \n",
       "3         75153     CA       0.226602  \n",
       "4         41879     CA       0.595219  \n",
       "\n",
       "[5 rows x 70 columns]"
      ]
     },
     "execution_count": 3,
     "metadata": {},
     "output_type": "execute_result"
    }
   ],
   "source": [
    "df['total_turnout'] = df['voted_voters'] / df['voter_population']\n",
    "df.head()"
   ]
  },
  {
   "cell_type": "code",
   "execution_count": 4,
   "id": "25550a6d",
   "metadata": {},
   "outputs": [],
   "source": [
    "def general_local_turnout_diff(state, df):\n",
    "    state_df = df[df['state']==state]\n",
    "    avg_turnout_by_elect_type = state_df.groupby(['elec_type']).mean()['total_turnout']\n",
    "    #print(avg_turnout_by_elect_type)\n",
    "    output = avg_turnout_by_elect_type['General'] - avg_turnout_by_elect_type['Local_or_Municipal']\n",
    "    return output"
   ]
  },
  {
   "cell_type": "code",
   "execution_count": 5,
   "id": "0fc8624b",
   "metadata": {},
   "outputs": [
    {
     "name": "stdout",
     "output_type": "stream",
     "text": [
      "['CA', 'CO', 'VT', 'NM']\n",
      "[0.36241292372761663, 0.5125598394546556, 0.2550255201142092, 0.3961870340764108]\n"
     ]
    }
   ],
   "source": [
    "states = list(df['state'].unique())\n",
    "states_without_local = []\n",
    "\n",
    "for state in states:\n",
    "    state_df = df[df['state']==state]\n",
    "    elect_types = state_df['elec_type'].unique()\n",
    "    has_local = False\n",
    "    for elect_type in elect_types:\n",
    "        if elect_type == 'Local_or_Municipal':\n",
    "            has_local = True\n",
    "    if has_local == False:\n",
    "        states_without_local.append(state)\n",
    "\n",
    "#print('States without local or municipal elections', states_without_local)\n",
    "\n",
    "for state in states_without_local:\n",
    "    states.remove(state)\n",
    "print(states)\n",
    "\n",
    "general_local_turnout_diffs = []\n",
    "\n",
    "for state in states:\n",
    "    #print(state)\n",
    "    #print(general_local_turnout_diff(state))\n",
    "    general_local_turnout_diffs.append(general_local_turnout_diff(state, df))\n",
    "    #print(general_local_turnout_diffs)\n",
    "print(general_local_turnout_diffs)\n"
   ]
  },
  {
   "cell_type": "code",
   "execution_count": 20,
   "id": "105d247c",
   "metadata": {},
   "outputs": [
    {
     "data": {
      "text/plain": [
       "Text(0, 0.5, 'Difference in turnout percentage')"
      ]
     },
     "execution_count": 20,
     "metadata": {},
     "output_type": "execute_result"
    },
    {
     "data": {
      "image/png": "[encoded data removed]",
      "text/plain": [
       "<Figure size 432x288 with 1 Axes>"
      ]
     },
     "metadata": {
      "needs_background": "light"
     },
     "output_type": "display_data"
    }
   ],
   "source": [
    "plt.bar(states, general_local_turnout_diffs)\n",
    "plt.title('Difference in Election Turnout by State (General - Local/Municipal)')\n",
    "plt.xlabel('State')\n",
    "plt.ylabel('Difference in turnout percentage')"
   ]
  },
  {
   "cell_type": "markdown",
   "id": "34a93f39",
   "metadata": {},
   "source": [
    "### Plot turnout by election type (RCV vs. Non-RCV)"
   ]
  },
  {
   "cell_type": "code",
   "execution_count": 7,
   "id": "1727d432",
   "metadata": {},
   "outputs": [],
   "source": [
    "rcv_cities = ['Albany', 'Berkeley', 'Eureka', 'Oakland', 'Palm Desert', 'San Francisco', 'San Leandro',\n",
    "             'Las Cruces', 'Santa Fe', 'Boulder', 'Burlington', 'Portland', 'Takoma Park', 'Bluffdale',\n",
    "             'Payson', 'Cottonwood Heights', 'Salt Lake City', 'Sandy', 'Midvale', 'Draper', 'Lehi',\n",
    "             'Springville', 'South Salt Lake', 'Magna', 'Heber', 'Millcreek', 'Riverton', 'St. Louis Park',\n",
    "             'Bloomington', 'Minneapolis', 'Minnetonka']\n",
    "non_rcv_cities = list(set(df['Residence_Addresses_City']) - set(rcv_cities))"
   ]
  },
  {
   "cell_type": "code",
   "execution_count": 8,
   "id": "f8491760",
   "metadata": {},
   "outputs": [],
   "source": [
    "rcv_df = df[df['Residence_Addresses_City'].isin(rcv_cities)]\n",
    "non_rcv_df = df[df['Residence_Addresses_City'].isin(non_rcv_cities)]"
   ]
  },
  {
   "cell_type": "code",
   "execution_count": 9,
   "id": "d92bac1e",
   "metadata": {},
   "outputs": [
    {
     "name": "stdout",
     "output_type": "stream",
     "text": [
      "['VT', 'NM']\n",
      "[0.13255934438583272, 0.477589176571632]\n"
     ]
    }
   ],
   "source": [
    "# Find tunout differences for RCV cities\n",
    "states_rcv = list(rcv_df['state'].unique())\n",
    "states_without_local_rcv = []\n",
    "\n",
    "for state in states_rcv:\n",
    "    state_df = rcv_df[rcv_df['state']==state]\n",
    "    elect_types = state_df['elec_type'].unique()\n",
    "    has_local = False\n",
    "    for elect_type in elect_types:\n",
    "        if elect_type == 'Local_or_Municipal':\n",
    "            has_local = True\n",
    "    if has_local == False:\n",
    "        states_without_local_rcv.append(state)\n",
    "\n",
    "#print('States without local or municipal elections', states_without_local_rcv)\n",
    "\n",
    "for state in states_without_local_rcv:\n",
    "    states_rcv.remove(state)\n",
    "print(states_rcv)\n",
    "\n",
    "general_local_turnout_diffs_rcv = []\n",
    "\n",
    "for state in states_rcv:\n",
    "    #print(state)\n",
    "    #print(general_local_turnout_diff(state))\n",
    "    general_local_turnout_diffs_rcv.append(general_local_turnout_diff(state, rcv_df))\n",
    "    #print(general_local_turnout_diffs)\n",
    "print(general_local_turnout_diffs_rcv)"
   ]
  },
  {
   "cell_type": "code",
   "execution_count": 21,
   "id": "1ceb814b",
   "metadata": {},
   "outputs": [
    {
     "data": {
      "text/plain": [
       "Text(0, 0.5, 'Difference in turnout percentage')"
      ]
     },
     "execution_count": 21,
     "metadata": {},
     "output_type": "execute_result"
    },
    {
     "data": {
      "image/png": "[encoded data removed]",
      "text/plain": [
       "<Figure size 432x288 with 1 Axes>"
      ]
     },
     "metadata": {
      "needs_background": "light"
     },
     "output_type": "display_data"
    }
   ],
   "source": [
    "plt.bar(states_rcv, general_local_turnout_diffs_rcv)\n",
    "plt.title('Difference in Election Turnout by State (General - Local/Municipal): RCV')\n",
    "plt.xlabel('State')\n",
    "plt.ylabel('Difference in turnout percentage')"
   ]
  },
  {
   "cell_type": "code",
   "execution_count": 11,
   "id": "d61603fe",
   "metadata": {},
   "outputs": [
    {
     "name": "stdout",
     "output_type": "stream",
     "text": [
      "['CA', 'CO', 'VT', 'NM']\n",
      "[0.35489051147650086, 0.5211867209648677, 0.2672721376870469, 0.3893127610980294]\n"
     ]
    }
   ],
   "source": [
    "# Find tunout differences for non-RCV cities\n",
    "states_non_rcv = list(non_rcv_df['state'].unique())\n",
    "states_without_local_non_rcv = []\n",
    "\n",
    "for state in states_non_rcv:\n",
    "    state_df = non_rcv_df[non_rcv_df['state']==state]\n",
    "    elect_types = state_df['elec_type'].unique()\n",
    "    has_local = False\n",
    "    for elect_type in elect_types:\n",
    "        if elect_type == 'Local_or_Municipal':\n",
    "            has_local = True\n",
    "    if has_local == False:\n",
    "        states_without_local_non_rcv.append(state)\n",
    "\n",
    "#print('States without local or municipal elections', states_without_local_rcv)\n",
    "\n",
    "for state in states_without_local_non_rcv:\n",
    "    states_non_rcv.remove(state)\n",
    "print(states_non_rcv)\n",
    "\n",
    "general_local_turnout_diffs_non_rcv = []\n",
    "\n",
    "for state in states_non_rcv:\n",
    "    #print(state)\n",
    "    #print(general_local_turnout_diff(state))\n",
    "    general_local_turnout_diffs_non_rcv.append(general_local_turnout_diff(state, non_rcv_df))\n",
    "    #print(general_local_turnout_diffs)\n",
    "print(general_local_turnout_diffs_non_rcv)"
   ]
  },
  {
   "cell_type": "code",
   "execution_count": 22,
   "id": "b7243acc",
   "metadata": {},
   "outputs": [
    {
     "data": {
      "text/plain": [
       "Text(0, 0.5, 'Difference in turnout percentage')"
      ]
     },
     "execution_count": 22,
     "metadata": {},
     "output_type": "execute_result"
    },
    {
     "data": {
      "image/png": "[encoded data removed]",
      "text/plain": [
       "<Figure size 432x288 with 1 Axes>"
      ]
     },
     "metadata": {
      "needs_background": "light"
     },
     "output_type": "display_data"
    }
   ],
   "source": [
    "plt.bar(states_non_rcv, general_local_turnout_diffs_non_rcv)\n",
    "plt.title('Difference in Election Turnout by State (General - Local/Municipal): non-RCV')\n",
    "plt.xlabel('State')\n",
    "plt.ylabel('Difference in turnout percentage')"
   ]
  },
  {
   "cell_type": "markdown",
   "id": "b7d77ceb",
   "metadata": {},
   "source": [
    "### Income by election type"
   ]
  },
  {
   "cell_type": "code",
   "execution_count": 13,
   "id": "9b3de92f",
   "metadata": {},
   "outputs": [],
   "source": [
    "consolidated_general_df = df[df['elec_type']=='Consolidated_General']\n",
    "general_df = df[df['elec_type']=='General']\n",
    "local_municipal_df = df[df['elec_type']=='Local_or_Municipal']"
   ]
  },
  {
   "cell_type": "code",
   "execution_count": 14,
   "id": "daa647c9",
   "metadata": {},
   "outputs": [],
   "source": [
    "income_cols = ['voted_voters_$1000-14999',\n",
    "               'voted_voters_$100000-124999', 'voted_voters_$125000-149999',\n",
    "               'voted_voters_$15000-24999', 'voted_voters_$150000-174999',\n",
    "               'voted_voters_$175000-199999', 'voted_voters_$200000-249999',\n",
    "               'voted_voters_$25000-34999', 'voted_voters_$250000+',\n",
    "               'voted_voters_$35000-49999', 'voted_voters_$50000-74999',\n",
    "               'voted_voters_$75000-99999']\n",
    "\n",
    "ordered_income_cols = ['voted_voters_$1000-14999',\n",
    "                      'voted_voters_$15000-24999',\n",
    "                      'voted_voters_$25000-34999',\n",
    "                      'voted_voters_$35000-49999',\n",
    "                      'voted_voters_$50000-74999',\n",
    "                      'voted_voters_$75000-99999',\n",
    "                      'voted_voters_$100000-124999',\n",
    "                      'voted_voters_$125000-149999',\n",
    "                      'voted_voters_$150000-174999',\n",
    "                      'voted_voters_$175000-199999',\n",
    "                      'voted_voters_$200000-249999',\n",
    "                      'voted_voters_$250000+']\n",
    "\n",
    "consolidated_general_income = consolidated_general_df[income_cols].drop_duplicates().sum(axis=0)\n",
    "general_income = general_df[income_cols].drop_duplicates().sum(axis=0)\n",
    "local_municipal_income = local_municipal_df[income_cols].drop_duplicates().sum(axis=0)\n",
    "\n",
    "consolidated_general_income = consolidated_general_income.reindex(ordered_income_cols)\n",
    "general_income = general_income.reindex(ordered_income_cols)\n",
    "local_municipal_income = local_municipal_income.reindex(ordered_income_cols)\n"
   ]
  },
  {
   "cell_type": "code",
   "execution_count": 15,
   "id": "f84d0eb8",
   "metadata": {},
   "outputs": [],
   "source": [
    "#get percentage breakdown of voter income by election type\n",
    "\n",
    "total_consolidated_general_voters = sum(consolidated_general_income)\n",
    "consolidated_general_income = consolidated_general_income.div(total_consolidated_general_voters)\n",
    "\n",
    "total_general_voters = sum(general_income)\n",
    "general_income = general_income.div(total_general_voters)\n",
    "\n",
    "total_local_municipal_voters = sum(local_municipal_income)\n",
    "local_municipal_income = local_municipal_income.div(total_local_municipal_voters)"
   ]
  },
  {
   "cell_type": "code",
   "execution_count": 16,
   "id": "20f13257",
   "metadata": {},
   "outputs": [
    {
     "data": {
      "image/png": "[encoded data removed]",
      "text/plain": [
       "<Figure size 1080x576 with 1 Axes>"
      ]
     },
     "metadata": {
      "needs_background": "light"
     },
     "output_type": "display_data"
    }
   ],
   "source": [
    "x_labels = ['$1000-14999',\n",
    "          '$15000-24999',\n",
    "          '$25000-34999',\n",
    "          '$35000-49999',\n",
    "          '$50000-74999',\n",
    "          '$75000-99999',\n",
    "          '$100000-124999',\n",
    "          '$125000-149999',\n",
    "          '$150000-174999',\n",
    "          '$175000-199999',\n",
    "          '$200000-249999',\n",
    "          '$250000+']\n",
    "x = np.arange(len(x_labels))\n",
    "width = 0.2\n",
    "\n",
    "fig, ax = plt.subplots(figsize=(15, 8))\n",
    "rects1 = ax.bar(x - width, consolidated_general_income, width, label='Consolidated General')\n",
    "rects2 = ax.bar(x, general_income, width, label='General')\n",
    "rects3 = ax.bar(x + width, local_municipal_income, width, label='Local or Municipal')\n",
    "\n",
    "ax.set_ylabel('Percent of voters')\n",
    "ax.set_title('Voter Income Bracket by Election Type')\n",
    "ax.set_xticks(x)\n",
    "ax.set_xticklabels(x_labels)\n",
    "\n",
    "ax.tick_params(labelrotation=45)\n",
    "ax.legend()\n",
    "\n",
    "fig.tight_layout()\n",
    "plt.show()"
   ]
  },
  {
   "cell_type": "markdown",
   "id": "bb1c26bb",
   "metadata": {},
   "source": [
    "### Income by election type (RCV)"
   ]
  },
  {
   "cell_type": "code",
   "execution_count": 17,
   "id": "a695f24c",
   "metadata": {},
   "outputs": [
    {
     "data": {
      "image/png": "[encoded data removed]",
      "text/plain": [
       "<Figure size 1080x576 with 1 Axes>"
      ]
     },
     "metadata": {
      "needs_background": "light"
     },
     "output_type": "display_data"
    }
   ],
   "source": [
    "consolidated_general_df_rcv = rcv_df[rcv_df['elec_type']=='Consolidated_General']\n",
    "general_df_rcv = rcv_df[rcv_df['elec_type']=='General']\n",
    "local_municipal_df_rcv = rcv_df[rcv_df['elec_type']=='Local_or_Municipal']\n",
    "\n",
    "consolidated_general_income_rcv = consolidated_general_df_rcv[income_cols].drop_duplicates().sum(axis=0)\n",
    "general_income_rcv = general_df_rcv[income_cols].drop_duplicates().sum(axis=0)\n",
    "local_municipal_income_rcv = local_municipal_df_rcv[income_cols].drop_duplicates().sum(axis=0)\n",
    "\n",
    "consolidated_general_income_rcv = consolidated_general_income_rcv.reindex(ordered_income_cols)\n",
    "general_income_rcv = general_income_rcv.reindex(ordered_income_cols)\n",
    "local_municipal_income_rcv = local_municipal_income_rcv.reindex(ordered_income_cols)\n",
    "\n",
    "#get percentage breakdown of voter income by election type\n",
    "\n",
    "total_consolidated_general_voters_rcv = sum(consolidated_general_income_rcv)\n",
    "consolidated_general_income_rcv = consolidated_general_income_rcv.div(total_consolidated_general_voters_rcv)\n",
    "\n",
    "total_general_voters_rcv = sum(general_income_rcv)\n",
    "general_income_rcv = general_income_rcv.div(total_general_voters_rcv)\n",
    "\n",
    "total_local_municipal_voters_rcv = sum(local_municipal_income_rcv)\n",
    "local_municipal_income_rcv = local_municipal_income_rcv.div(total_local_municipal_voters_rcv)\n",
    "\n",
    "\n",
    "fig, ax = plt.subplots(figsize=(15, 8))\n",
    "rects1 = ax.bar(x - width, consolidated_general_income_rcv, width, label='Consolidated General')\n",
    "rects2 = ax.bar(x, general_income_rcv, width, label='General')\n",
    "rects3 = ax.bar(x + width, local_municipal_income_rcv, width, label='Local or Municipal')\n",
    "\n",
    "ax.set_ylabel('Percent of voters')\n",
    "ax.set_title('Voter Income Bracket by Election Type (RCV)')\n",
    "ax.set_xticks(x)\n",
    "ax.set_xticklabels(x_labels)\n",
    "ax.tick_params(labelrotation=45)\n",
    "ax.legend()\n",
    "\n",
    "fig.tight_layout()\n",
    "plt.show()"
   ]
  },
  {
   "cell_type": "markdown",
   "id": "1477961f",
   "metadata": {},
   "source": [
    "### Income by election type (non-RCV)"
   ]
  },
  {
   "cell_type": "code",
   "execution_count": 18,
   "id": "ffecf762",
   "metadata": {},
   "outputs": [
    {
     "data": {
      "image/png": "[encoded data removed]",
      "text/plain": [
       "<Figure size 1080x576 with 1 Axes>"
      ]
     },
     "metadata": {
      "needs_background": "light"
     },
     "output_type": "display_data"
    }
   ],
   "source": [
    "consolidated_general_df_non_rcv = non_rcv_df[non_rcv_df['elec_type']=='Consolidated_General']\n",
    "general_df_non_rcv = non_rcv_df[non_rcv_df['elec_type']=='General']\n",
    "local_municipal_df_non_rcv = non_rcv_df[non_rcv_df['elec_type']=='Local_or_Municipal']\n",
    "\n",
    "consolidated_general_income_non_rcv = consolidated_general_df_non_rcv[income_cols].drop_duplicates().sum(axis=0)\n",
    "general_income_non_rcv = general_df_non_rcv[income_cols].drop_duplicates().sum(axis=0)\n",
    "local_municipal_income_non_rcv = local_municipal_df_non_rcv[income_cols].drop_duplicates().sum(axis=0)\n",
    "\n",
    "consolidated_general_income_non_rcv = consolidated_general_income_non_rcv.reindex(ordered_income_cols)\n",
    "general_income_non_rcv = general_income_non_rcv.reindex(ordered_income_cols)\n",
    "local_municipal_income_non_rcv = local_municipal_income_non_rcv.reindex(ordered_income_cols)\n",
    "\n",
    "\n",
    "#get percentage breakdown of voter income by election type\n",
    "\n",
    "total_consolidated_general_voters_non_rcv = sum(consolidated_general_income_non_rcv)\n",
    "consolidated_general_income_non_rcv = consolidated_general_income_non_rcv.div(total_consolidated_general_voters_non_rcv)\n",
    "\n",
    "total_general_voters_non_rcv = sum(general_income_non_rcv)\n",
    "general_income_non_rcv = general_income_non_rcv.div(total_general_voters_non_rcv)\n",
    "\n",
    "total_local_municipal_voters_non_rcv = sum(local_municipal_income_non_rcv)\n",
    "local_municipal_income_non_rcv = local_municipal_income_non_rcv.div(total_local_municipal_voters_non_rcv)\n",
    "\n",
    "\n",
    "fig, ax = plt.subplots(figsize=(15, 8))\n",
    "rects1 = ax.bar(x - width, consolidated_general_income_non_rcv, width, label='Consolidated General')\n",
    "rects2 = ax.bar(x, general_income_non_rcv, width, label='General')\n",
    "rects3 = ax.bar(x + width, local_municipal_income_non_rcv, width, label='Local or Municipal')\n",
    "\n",
    "ax.set_ylabel('Percent of voters')\n",
    "ax.set_title('Voter Income Bracket by Election Type (non-RCV)')\n",
    "ax.set_xticks(x)\n",
    "ax.set_xticklabels(x_labels)\n",
    "ax.tick_params(labelrotation=45)\n",
    "ax.legend()\n",
    "\n",
    "fig.tight_layout()\n",
    "plt.show()"
   ]
  }
 ],
 "metadata": {
  "kernelspec": {
   "display_name": "Python 3",
   "language": "python",
   "name": "python3"
  },
  "language_info": {
   "codemirror_mode": {
    "name": "ipython",
    "version": 3
   },
   "file_extension": ".py",
   "mimetype": "text/x-python",
   "name": "python",
   "nbconvert_exporter": "python",
   "pygments_lexer": "ipython3",
   "version": "3.8.8"
  }
 },
 "nbformat": 4,
 "nbformat_minor": 5
}
